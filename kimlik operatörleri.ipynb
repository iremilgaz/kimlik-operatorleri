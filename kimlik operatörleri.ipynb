{
 "cells": [
  {
   "cell_type": "code",
   "execution_count": 1,
   "id": "9b4392c4",
   "metadata": {},
   "outputs": [
    {
     "name": "stdout",
     "output_type": "stream",
     "text": [
      "True\n"
     ]
    }
   ],
   "source": [
    "a = 256\n",
    "b = 256\n",
    "print(a is b)  # Sonuç ne olur? Neden?\n",
    "# sayılar, -5 ile 256 aralıgında bir sayı ise, aynı değere sahip iki değişken aynı bellek adresini paylaşır.o yüzden doğru "
   ]
  },
  {
   "cell_type": "code",
   "execution_count": 3,
   "id": "a18fec48",
   "metadata": {},
   "outputs": [
    {
     "name": "stdout",
     "output_type": "stream",
     "text": [
      "False\n"
     ]
    }
   ],
   "source": [
    "c = 257\n",
    "d = 257\n",
    "print(c is d)  # Sonuç ne olur? Neden?\n",
    "#sayı bu aralıkta olmadığı için değer yanlış"
   ]
  },
  {
   "cell_type": "code",
   "execution_count": null,
   "id": "3d93112c",
   "metadata": {},
   "outputs": [],
   "source": []
  }
 ],
 "metadata": {
  "kernelspec": {
   "display_name": "Python 3 (ipykernel)",
   "language": "python",
   "name": "python3"
  },
  "language_info": {
   "codemirror_mode": {
    "name": "ipython",
    "version": 3
   },
   "file_extension": ".py",
   "mimetype": "text/x-python",
   "name": "python",
   "nbconvert_exporter": "python",
   "pygments_lexer": "ipython3",
   "version": "3.9.12"
  }
 },
 "nbformat": 4,
 "nbformat_minor": 5
}
